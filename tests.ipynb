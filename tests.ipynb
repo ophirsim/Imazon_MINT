{
 "cells": [
  {
   "cell_type": "code",
   "execution_count": 1,
   "metadata": {},
   "outputs": [
    {
     "name": "stderr",
     "output_type": "stream",
     "text": [
      "/home/ophirsim/miniconda3/envs/ClimaXtreme/lib/python3.9/site-packages/tqdm/auto.py:21: TqdmWarning: IProgress not found. Please update jupyter and ipywidgets. See https://ipywidgets.readthedocs.io/en/stable/user_install.html\n",
      "  from .autonotebook import tqdm as notebook_tqdm\n"
     ]
    }
   ],
   "source": [
    "import torch\n",
    "import torch.nn as nn\n",
    "from torch.utils.data import DataLoader\n",
    "from WaterDataset import WaterDataset\n",
    "from Baseline import Baseline\n",
    "from utils import *\n",
    "import metrics\n",
    "import matplotlib.pyplot as plt\n",
    "%matplotlib inline"
   ]
  },
  {
   "cell_type": "code",
   "execution_count": 2,
   "metadata": {},
   "outputs": [],
   "source": [
    "train_set = WaterDataset('/localhome/ophirsim/Imazon_Water_Dataset/train', timestep=6, iterative=False)\n",
    "\n",
    "train_loader = DataLoader(train_set, batch_size=1, shuffle=True)"
   ]
  },
  {
   "cell_type": "code",
   "execution_count": 3,
   "metadata": {},
   "outputs": [
    {
     "name": "stdout",
     "output_type": "stream",
     "text": [
      "0.9977609034170184\n",
      "0.9117936258116013\n",
      "3963.745614035088\n",
      "382.1578947368421\n",
      "338946.72222222225\n",
      "387.37426900584796\n",
      "1486299.0\n",
      "116052261.0\n",
      "0.012807152460390237\n"
     ]
    }
   ],
   "source": [
    "cum_accuracy = 0\n",
    "cum_f1 = 0\n",
    "cum_TP = 0\n",
    "cum_FP = 0\n",
    "cum_TN = 0\n",
    "cum_FN = 0\n",
    "cum_pos = 0\n",
    "cum_neg = 0\n",
    "for sample, label, gap in train_loader:\n",
    "    sample = torch.squeeze(sample, 1)\n",
    "    cum_accuracy += metrics.accuracy(sample, label)\n",
    "    cum_f1 += metrics.f1(sample, label)\n",
    "    cum_TP += metrics.TP(sample, label)\n",
    "    cum_FP += metrics.FP(sample, label)\n",
    "    cum_TN += metrics.TN(sample, label)\n",
    "    cum_FN += metrics.FN(sample, label)\n",
    "\n",
    "    cum_pos += torch.sum(sample).item()\n",
    "    cum_neg += (torch.numel(sample) - torch.sum(sample)).item()\n",
    "\n",
    "\n",
    "average_acc = cum_accuracy / len(train_set)\n",
    "average_f1 = cum_f1 / len(train_set)\n",
    "average_TP = cum_TP / len(train_set)\n",
    "average_FP = cum_FP / len(train_set)\n",
    "average_TN = cum_TN / len(train_set)\n",
    "average_FN = cum_FN / len(train_set)\n",
    "\n",
    "\n",
    "print(average_acc)\n",
    "print(average_f1)\n",
    "print(average_TP)\n",
    "print(average_FP)\n",
    "print(average_TN)\n",
    "print(average_FN)\n",
    "\n",
    "\n",
    "print(cum_pos)\n",
    "print(cum_neg)\n",
    "print(cum_pos / cum_neg)\n",
    "\n"
   ]
  }
 ],
 "metadata": {
  "kernelspec": {
   "display_name": "ClimaXtreme",
   "language": "python",
   "name": "python3"
  },
  "language_info": {
   "codemirror_mode": {
    "name": "ipython",
    "version": 3
   },
   "file_extension": ".py",
   "mimetype": "text/x-python",
   "name": "python",
   "nbconvert_exporter": "python",
   "pygments_lexer": "ipython3",
   "version": "3.9.18"
  }
 },
 "nbformat": 4,
 "nbformat_minor": 2
}
